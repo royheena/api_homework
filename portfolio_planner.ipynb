{
 "cells": [
  {
   "cell_type": "markdown",
   "metadata": {},
   "source": [
    "# Retirement Planner\n",
    "\n",
    "---\n",
    "\n",
    "## Environment Setup"
   ]
  },
  {
   "cell_type": "code",
   "execution_count": 28,
   "metadata": {},
   "outputs": [],
   "source": [
    "# Import libraries and dependencies\n",
    "\n",
    "import numpy as np\n",
    "import pandas as pd\n",
    "import os\n",
    "from datetime import datetime, timedelta\n",
    "import matplotlib.pyplot as plt\n",
    "import alpaca_trade_api as tradeapi\n",
    "%matplotlib inline\n"
   ]
  },
  {
   "cell_type": "code",
   "execution_count": 29,
   "metadata": {},
   "outputs": [],
   "source": [
    "# Set the random seed for resutls reproducibility (for testing purposes only)\n",
    "\n",
    "np.random.seed(42)\n"
   ]
  },
  {
   "cell_type": "markdown",
   "metadata": {},
   "source": [
    "---\n",
    "\n",
    "## Portfolio Planner\n",
    "\n",
    "In this activity, you will use the Alpaca API to grab historical data for a `60/40` portfolio using `SPY` to represent the stock portion and `AGG` to represent the bonds."
   ]
  },
  {
   "cell_type": "code",
   "execution_count": 30,
   "metadata": {},
   "outputs": [],
   "source": [
    "# Load .env enviroment variables\n",
    "\n",
    "from dotenv import load_dotenv\n",
    "load_dotenv(\"/Users/heenaroy/Desktop/.env\")\n",
    "\n",
    "# Set Alpaca API key and secret\n",
    "\n",
    "alpaca_api_key = os.getenv(\"ALPACA_API_KEY\")\n",
    "alpaca_secret_key = os.getenv(\"ALPACA_SECRET_KEY\")\n",
    "\n",
    "# Create the Alpaca API object\n",
    "\n",
    "api = tradeapi.REST(\n",
    "    alpaca_api_key,\n",
    "    alpaca_secret_key,\n",
    "    api_version=\"v2\")\n"
   ]
  },
  {
   "cell_type": "markdown",
   "metadata": {},
   "source": [
    "# Data Collection\n",
    "\n",
    "In this step, you will need to use the Alpaca api to fetch closing prices for the `SPY` and `AGG` tickers. Save the results as a pandas DataFrame"
   ]
  },
  {
   "cell_type": "code",
   "execution_count": 31,
   "metadata": {},
   "outputs": [],
   "source": [
    "# Subset your tickers, then pull returns data:\n",
    "\n",
    "# Set the ticker\n",
    "\n",
    "ticker = [\"SPY\", \"AGG\"]\n",
    "\n",
    "# Set timeframe to '1D'\n",
    "\n",
    "timeframe = \"1D\"\n",
    "\n",
    "# Set start and end datetimes of 1 year, between now and 365 days ago.\n",
    "\n",
    "start_date = pd.Timestamp('2019-01-01', tz='America/New_York').isoformat()\n",
    "end_date = pd.Timestamp('2019-12-31', tz='America/New_York').isoformat()\n",
    "\n",
    "# Get 1 year's worth of historical data for SPY and AGG\n",
    "\n",
    "df = api.get_barset(\n",
    "    ticker,\n",
    "    timeframe,\n",
    "    limit=None,\n",
    "    start=start_date,\n",
    "    end=end_date,\n",
    "    after=None,\n",
    "    until=None,\n",
    ").df\n",
    "\n",
    "# Drop unnecessary columns\n",
    "\n",
    "df = df.drop(columns=['open', 'high', 'low', 'volume'], level=1)\n"
   ]
  },
  {
   "cell_type": "code",
   "execution_count": 32,
   "metadata": {},
   "outputs": [
    {
     "data": {
      "text/html": [
       "<div>\n",
       "<style scoped>\n",
       "    .dataframe tbody tr th:only-of-type {\n",
       "        vertical-align: middle;\n",
       "    }\n",
       "\n",
       "    .dataframe tbody tr th {\n",
       "        vertical-align: top;\n",
       "    }\n",
       "\n",
       "    .dataframe thead tr th {\n",
       "        text-align: left;\n",
       "    }\n",
       "</style>\n",
       "<table border=\"1\" class=\"dataframe\">\n",
       "  <thead>\n",
       "    <tr>\n",
       "      <th></th>\n",
       "      <th>AGG</th>\n",
       "      <th>SPY</th>\n",
       "    </tr>\n",
       "    <tr>\n",
       "      <th></th>\n",
       "      <th>close</th>\n",
       "      <th>close</th>\n",
       "    </tr>\n",
       "  </thead>\n",
       "  <tbody>\n",
       "    <tr>\n",
       "      <th>2019-01-02 00:00:00-05:00</th>\n",
       "      <td>106.585</td>\n",
       "      <td>249.89</td>\n",
       "    </tr>\n",
       "    <tr>\n",
       "      <th>2019-01-03 00:00:00-05:00</th>\n",
       "      <td>107.020</td>\n",
       "      <td>244.46</td>\n",
       "    </tr>\n",
       "    <tr>\n",
       "      <th>2019-01-04 00:00:00-05:00</th>\n",
       "      <td>106.695</td>\n",
       "      <td>252.41</td>\n",
       "    </tr>\n",
       "    <tr>\n",
       "      <th>2019-01-07 00:00:00-05:00</th>\n",
       "      <td>106.470</td>\n",
       "      <td>254.40</td>\n",
       "    </tr>\n",
       "    <tr>\n",
       "      <th>2019-01-08 00:00:00-05:00</th>\n",
       "      <td>106.420</td>\n",
       "      <td>256.65</td>\n",
       "    </tr>\n",
       "  </tbody>\n",
       "</table>\n",
       "</div>"
      ],
      "text/plain": [
       "                               AGG     SPY\n",
       "                             close   close\n",
       "2019-01-02 00:00:00-05:00  106.585  249.89\n",
       "2019-01-03 00:00:00-05:00  107.020  244.46\n",
       "2019-01-04 00:00:00-05:00  106.695  252.41\n",
       "2019-01-07 00:00:00-05:00  106.470  254.40\n",
       "2019-01-08 00:00:00-05:00  106.420  256.65"
      ]
     },
     "execution_count": 32,
     "metadata": {},
     "output_type": "execute_result"
    }
   ],
   "source": [
    "# Display sample data\n",
    "\n",
    "df.head()\n"
   ]
  },
  {
   "cell_type": "markdown",
   "metadata": {},
   "source": [
    "---\n",
    "\n",
    "## Monte Carlo Simulation\n",
    "\n",
    "In this step, you will run Monte Carlo Simulations for your portfolio to model portfolio performance at different retirement ages. \n",
    "\n",
    "Complete the following steps:\n",
    "\n",
    "1. Calculate the daily returns for the SPY and AGG closing prices.\n",
    "\n",
    "2. Calculate volatility for both the SPY and AGG closing prices.\n",
    "\n",
    "3. Find the last day's closing price for both stocks and save those as variables\n",
    "\n",
    "4. Run a Monte Carlo Simulation of at least `100` iterations and generate at least `30` years of closing prices\n",
    "\n",
    "**Hint:** There are `252` trading days per year, so the number of records to generate for each Monte Carlo run will be `252 days * 30 years`."
   ]
  },
  {
   "cell_type": "code",
   "execution_count": 33,
   "metadata": {},
   "outputs": [
    {
     "data": {
      "text/html": [
       "<div>\n",
       "<style scoped>\n",
       "    .dataframe tbody tr th:only-of-type {\n",
       "        vertical-align: middle;\n",
       "    }\n",
       "\n",
       "    .dataframe tbody tr th {\n",
       "        vertical-align: top;\n",
       "    }\n",
       "\n",
       "    .dataframe thead th {\n",
       "        text-align: right;\n",
       "    }\n",
       "</style>\n",
       "<table border=\"1\" class=\"dataframe\">\n",
       "  <thead>\n",
       "    <tr style=\"text-align: right;\">\n",
       "      <th></th>\n",
       "      <th>AGG</th>\n",
       "      <th>SPY</th>\n",
       "    </tr>\n",
       "  </thead>\n",
       "  <tbody>\n",
       "    <tr>\n",
       "      <th>2019-01-02</th>\n",
       "      <td>106.585</td>\n",
       "      <td>249.89</td>\n",
       "    </tr>\n",
       "    <tr>\n",
       "      <th>2019-01-03</th>\n",
       "      <td>107.020</td>\n",
       "      <td>244.46</td>\n",
       "    </tr>\n",
       "    <tr>\n",
       "      <th>2019-01-04</th>\n",
       "      <td>106.695</td>\n",
       "      <td>252.41</td>\n",
       "    </tr>\n",
       "    <tr>\n",
       "      <th>2019-01-07</th>\n",
       "      <td>106.470</td>\n",
       "      <td>254.40</td>\n",
       "    </tr>\n",
       "    <tr>\n",
       "      <th>2019-01-08</th>\n",
       "      <td>106.420</td>\n",
       "      <td>256.65</td>\n",
       "    </tr>\n",
       "  </tbody>\n",
       "</table>\n",
       "</div>"
      ],
      "text/plain": [
       "                AGG     SPY\n",
       "2019-01-02  106.585  249.89\n",
       "2019-01-03  107.020  244.46\n",
       "2019-01-04  106.695  252.41\n",
       "2019-01-07  106.470  254.40\n",
       "2019-01-08  106.420  256.65"
      ]
     },
     "execution_count": 33,
     "metadata": {},
     "output_type": "execute_result"
    }
   ],
   "source": [
    "# Clean up data\n",
    "\n",
    "# Drop Outer Table Level\n",
    "    \n",
    "df = df.droplevel(axis=1, level=0)\n",
    "\n",
    "# Rename close to Stock Ticker\n",
    "\n",
    "df.columns = [\"AGG\", \"SPY\"]\n",
    "\n",
    "# Since this is daily data, keep only the date (remove the time)\n",
    "\n",
    "df.index = df.index.date\n",
    "\n",
    "# Display sample data\n",
    "\n",
    "df.head()\n"
   ]
  },
  {
   "cell_type": "code",
   "execution_count": 34,
   "metadata": {},
   "outputs": [
    {
     "data": {
      "text/html": [
       "<div>\n",
       "<style scoped>\n",
       "    .dataframe tbody tr th:only-of-type {\n",
       "        vertical-align: middle;\n",
       "    }\n",
       "\n",
       "    .dataframe tbody tr th {\n",
       "        vertical-align: top;\n",
       "    }\n",
       "\n",
       "    .dataframe thead th {\n",
       "        text-align: right;\n",
       "    }\n",
       "</style>\n",
       "<table border=\"1\" class=\"dataframe\">\n",
       "  <thead>\n",
       "    <tr style=\"text-align: right;\">\n",
       "      <th></th>\n",
       "      <th>AGG</th>\n",
       "      <th>SPY</th>\n",
       "    </tr>\n",
       "  </thead>\n",
       "  <tbody>\n",
       "    <tr>\n",
       "      <th>2019-01-02</th>\n",
       "      <td>NaN</td>\n",
       "      <td>NaN</td>\n",
       "    </tr>\n",
       "    <tr>\n",
       "      <th>2019-01-03</th>\n",
       "      <td>0.004081</td>\n",
       "      <td>-0.021730</td>\n",
       "    </tr>\n",
       "    <tr>\n",
       "      <th>2019-01-04</th>\n",
       "      <td>-0.003037</td>\n",
       "      <td>0.032521</td>\n",
       "    </tr>\n",
       "    <tr>\n",
       "      <th>2019-01-07</th>\n",
       "      <td>-0.002109</td>\n",
       "      <td>0.007884</td>\n",
       "    </tr>\n",
       "    <tr>\n",
       "      <th>2019-01-08</th>\n",
       "      <td>-0.000470</td>\n",
       "      <td>0.008844</td>\n",
       "    </tr>\n",
       "  </tbody>\n",
       "</table>\n",
       "</div>"
      ],
      "text/plain": [
       "                 AGG       SPY\n",
       "2019-01-02       NaN       NaN\n",
       "2019-01-03  0.004081 -0.021730\n",
       "2019-01-04 -0.003037  0.032521\n",
       "2019-01-07 -0.002109  0.007884\n",
       "2019-01-08 -0.000470  0.008844"
      ]
     },
     "execution_count": 34,
     "metadata": {},
     "output_type": "execute_result"
    }
   ],
   "source": [
    "# Calculate the daily roi for the stocks\n",
    "\n",
    "daily_roi = df.pct_change()\n",
    "\n",
    "# Display sample data\n",
    "\n",
    "daily_roi.head()\n"
   ]
  },
  {
   "cell_type": "code",
   "execution_count": 35,
   "metadata": {},
   "outputs": [],
   "source": [
    "# Compute daily volatility\n",
    "\n",
    "# Value of Average Daily ROI\n",
    "\n",
    "avg_daily_roi_agg = daily_roi.mean()[\"AGG\"]\n",
    "avg_daily_roi_spy = daily_roi.mean()[\"SPY\"]\n",
    "\n",
    "# Value of Standard Deviation of Daily ROI\n",
    "\n",
    "std_daily_roi_agg = daily_roi.std()[\"AGG\"]\n",
    "std_daily_roi_spy = daily_roi.std()[\"SPY\"]\n"
   ]
  },
  {
   "cell_type": "code",
   "execution_count": 36,
   "metadata": {},
   "outputs": [],
   "source": [
    "# Save the last day's closing price\n",
    "\n",
    "agg_last_price = df[\"AGG\"][-1]\n",
    "spy_last_price = df[\"SPY\"][-1]\n"
   ]
  },
  {
   "cell_type": "code",
   "execution_count": 37,
   "metadata": {},
   "outputs": [],
   "source": [
    "# Setup the Monte Carlo Parameters for 500 simulations over 30 years of records\n",
    "\n",
    "number_simulations = 500\n",
    "number_records = 252 * 30\n",
    "monte_carlo = pd.DataFrame()\n",
    "simulated_price_df = pd.DataFrame()\n"
   ]
  },
  {
   "cell_type": "code",
   "execution_count": 38,
   "metadata": {},
   "outputs": [],
   "source": [
    "# Run the Monte Carlo Simulation\n",
    "\n",
    "for simulation in range(number_simulations):\n",
    "\n",
    "    # Initialize the simulated prices list with the last closing price of AGG & SPY\n",
    "    \n",
    "    simulated_agg_prices = [agg_last_price]\n",
    "    simulated_spy_prices = [spy_last_price]\n",
    "    \n",
    "    # Simulate the returns for 252 days of 30 years\n",
    "    \n",
    "    for i in range (number_records):\n",
    "        \n",
    "        # Calculate the simulated price using the last price within the list\n",
    "        \n",
    "        simulated_agg_price = simulated_agg_prices[-1] * (1 + np.random.normal(avg_daily_roi_agg, std_daily_roi_agg))\n",
    "        simulated_spy_price = simulated_spy_prices[-1] * (1 + np.random.normal(avg_daily_roi_spy, std_daily_roi_spy))    \n",
    "        \n",
    "        # Append the simulated prices to the list\n",
    "        \n",
    "        simulated_agg_prices.append(simulated_agg_price)\n",
    "        simulated_spy_prices.append(simulated_spy_price)\n",
    "    \n",
    "    # Append the simulated prices of each simulation to the DataFrame\n",
    "    \n",
    "    simulated_price_df[\"AGG Prices\"] = pd.Series(simulated_agg_prices)\n",
    "    simulated_price_df[\"SPY Prices\"] = pd.Series(simulated_spy_prices)\n",
    "    \n",
    "    # Calculate the Daily ROI of simulated prices\n",
    "    \n",
    "    simulated_daily_roi = simulated_price_df.pct_change()\n",
    "    \n",
    "    # Set portfolio weights to 40% AGG & 60% SPY\n",
    "    \n",
    "    weights = [0.40, 0.60]\n",
    "    \n",
    "    # Update Daily ROI based on Weighted Portfolio Mix \n",
    "    \n",
    "    portfolio_daily_roi = simulated_daily_roi.dot(weights)\n",
    "    \n",
    "    # Calculate Simulated, Normalized Cumulative Returns\n",
    "    \n",
    "    monte_carlo[simulation] = (1 + portfolio_daily_roi.fillna(0)).cumprod()\n"
   ]
  },
  {
   "cell_type": "code",
   "execution_count": 39,
   "metadata": {},
   "outputs": [
    {
     "data": {
      "text/html": [
       "<div>\n",
       "<style scoped>\n",
       "    .dataframe tbody tr th:only-of-type {\n",
       "        vertical-align: middle;\n",
       "    }\n",
       "\n",
       "    .dataframe tbody tr th {\n",
       "        vertical-align: top;\n",
       "    }\n",
       "\n",
       "    .dataframe thead th {\n",
       "        text-align: right;\n",
       "    }\n",
       "</style>\n",
       "<table border=\"1\" class=\"dataframe\">\n",
       "  <thead>\n",
       "    <tr style=\"text-align: right;\">\n",
       "      <th></th>\n",
       "      <th>0</th>\n",
       "      <th>1</th>\n",
       "      <th>2</th>\n",
       "      <th>3</th>\n",
       "      <th>4</th>\n",
       "      <th>5</th>\n",
       "      <th>6</th>\n",
       "      <th>7</th>\n",
       "      <th>8</th>\n",
       "      <th>9</th>\n",
       "      <th>...</th>\n",
       "      <th>490</th>\n",
       "      <th>491</th>\n",
       "      <th>492</th>\n",
       "      <th>493</th>\n",
       "      <th>494</th>\n",
       "      <th>495</th>\n",
       "      <th>496</th>\n",
       "      <th>497</th>\n",
       "      <th>498</th>\n",
       "      <th>499</th>\n",
       "    </tr>\n",
       "  </thead>\n",
       "  <tbody>\n",
       "    <tr>\n",
       "      <th>0</th>\n",
       "      <td>1.000000</td>\n",
       "      <td>1.000000</td>\n",
       "      <td>1.000000</td>\n",
       "      <td>1.000000</td>\n",
       "      <td>1.000000</td>\n",
       "      <td>1.000000</td>\n",
       "      <td>1.000000</td>\n",
       "      <td>1.000000</td>\n",
       "      <td>1.000000</td>\n",
       "      <td>1.000000</td>\n",
       "      <td>...</td>\n",
       "      <td>1.000000</td>\n",
       "      <td>1.000000</td>\n",
       "      <td>1.000000</td>\n",
       "      <td>1.000000</td>\n",
       "      <td>1.000000</td>\n",
       "      <td>1.000000</td>\n",
       "      <td>1.000000</td>\n",
       "      <td>1.000000</td>\n",
       "      <td>1.000000</td>\n",
       "      <td>1.000000</td>\n",
       "    </tr>\n",
       "    <tr>\n",
       "      <th>1</th>\n",
       "      <td>1.000476</td>\n",
       "      <td>1.000536</td>\n",
       "      <td>0.998808</td>\n",
       "      <td>1.005394</td>\n",
       "      <td>1.011797</td>\n",
       "      <td>0.994452</td>\n",
       "      <td>0.997251</td>\n",
       "      <td>1.013277</td>\n",
       "      <td>1.000869</td>\n",
       "      <td>0.995376</td>\n",
       "      <td>...</td>\n",
       "      <td>1.002066</td>\n",
       "      <td>0.992709</td>\n",
       "      <td>1.001801</td>\n",
       "      <td>1.002671</td>\n",
       "      <td>0.996472</td>\n",
       "      <td>1.003160</td>\n",
       "      <td>1.001638</td>\n",
       "      <td>1.006800</td>\n",
       "      <td>0.998173</td>\n",
       "      <td>0.994765</td>\n",
       "    </tr>\n",
       "    <tr>\n",
       "      <th>2</th>\n",
       "      <td>1.008876</td>\n",
       "      <td>1.004699</td>\n",
       "      <td>1.003590</td>\n",
       "      <td>0.996711</td>\n",
       "      <td>1.009571</td>\n",
       "      <td>0.994247</td>\n",
       "      <td>0.994214</td>\n",
       "      <td>1.007199</td>\n",
       "      <td>1.000225</td>\n",
       "      <td>0.993036</td>\n",
       "      <td>...</td>\n",
       "      <td>1.005759</td>\n",
       "      <td>0.994517</td>\n",
       "      <td>1.003317</td>\n",
       "      <td>1.006181</td>\n",
       "      <td>0.997472</td>\n",
       "      <td>0.991774</td>\n",
       "      <td>1.002764</td>\n",
       "      <td>1.005408</td>\n",
       "      <td>0.996137</td>\n",
       "      <td>0.998871</td>\n",
       "    </tr>\n",
       "    <tr>\n",
       "      <th>3</th>\n",
       "      <td>1.008286</td>\n",
       "      <td>1.004228</td>\n",
       "      <td>1.003770</td>\n",
       "      <td>0.998232</td>\n",
       "      <td>1.007751</td>\n",
       "      <td>0.987669</td>\n",
       "      <td>0.998229</td>\n",
       "      <td>1.001361</td>\n",
       "      <td>1.000230</td>\n",
       "      <td>1.001279</td>\n",
       "      <td>...</td>\n",
       "      <td>1.006771</td>\n",
       "      <td>0.988444</td>\n",
       "      <td>1.004118</td>\n",
       "      <td>1.010565</td>\n",
       "      <td>0.993293</td>\n",
       "      <td>0.994454</td>\n",
       "      <td>1.008272</td>\n",
       "      <td>0.999144</td>\n",
       "      <td>0.998656</td>\n",
       "      <td>1.003328</td>\n",
       "    </tr>\n",
       "    <tr>\n",
       "      <th>4</th>\n",
       "      <td>1.013963</td>\n",
       "      <td>1.006575</td>\n",
       "      <td>1.008493</td>\n",
       "      <td>1.002636</td>\n",
       "      <td>1.013664</td>\n",
       "      <td>0.990972</td>\n",
       "      <td>1.003241</td>\n",
       "      <td>0.995491</td>\n",
       "      <td>1.002048</td>\n",
       "      <td>1.006036</td>\n",
       "      <td>...</td>\n",
       "      <td>1.004196</td>\n",
       "      <td>0.992123</td>\n",
       "      <td>1.004724</td>\n",
       "      <td>1.004423</td>\n",
       "      <td>0.994844</td>\n",
       "      <td>0.993782</td>\n",
       "      <td>1.005722</td>\n",
       "      <td>1.002248</td>\n",
       "      <td>0.996964</td>\n",
       "      <td>1.004095</td>\n",
       "    </tr>\n",
       "  </tbody>\n",
       "</table>\n",
       "<p>5 rows × 500 columns</p>\n",
       "</div>"
      ],
      "text/plain": [
       "        0         1         2         3         4         5         6    \\\n",
       "0  1.000000  1.000000  1.000000  1.000000  1.000000  1.000000  1.000000   \n",
       "1  1.000476  1.000536  0.998808  1.005394  1.011797  0.994452  0.997251   \n",
       "2  1.008876  1.004699  1.003590  0.996711  1.009571  0.994247  0.994214   \n",
       "3  1.008286  1.004228  1.003770  0.998232  1.007751  0.987669  0.998229   \n",
       "4  1.013963  1.006575  1.008493  1.002636  1.013664  0.990972  1.003241   \n",
       "\n",
       "        7         8         9    ...       490       491       492       493  \\\n",
       "0  1.000000  1.000000  1.000000  ...  1.000000  1.000000  1.000000  1.000000   \n",
       "1  1.013277  1.000869  0.995376  ...  1.002066  0.992709  1.001801  1.002671   \n",
       "2  1.007199  1.000225  0.993036  ...  1.005759  0.994517  1.003317  1.006181   \n",
       "3  1.001361  1.000230  1.001279  ...  1.006771  0.988444  1.004118  1.010565   \n",
       "4  0.995491  1.002048  1.006036  ...  1.004196  0.992123  1.004724  1.004423   \n",
       "\n",
       "        494       495       496       497       498       499  \n",
       "0  1.000000  1.000000  1.000000  1.000000  1.000000  1.000000  \n",
       "1  0.996472  1.003160  1.001638  1.006800  0.998173  0.994765  \n",
       "2  0.997472  0.991774  1.002764  1.005408  0.996137  0.998871  \n",
       "3  0.993293  0.994454  1.008272  0.999144  0.998656  1.003328  \n",
       "4  0.994844  0.993782  1.005722  1.002248  0.996964  1.004095  \n",
       "\n",
       "[5 rows x 500 columns]"
      ]
     },
     "execution_count": 39,
     "metadata": {},
     "output_type": "execute_result"
    }
   ],
   "source": [
    "# Check that the simulation ran successfully\n",
    "\n",
    "monte_carlo.head()\n"
   ]
  },
  {
   "cell_type": "code",
   "execution_count": 42,
   "metadata": {},
   "outputs": [
    {
     "data": {
      "text/plain": [
       "<matplotlib.axes._subplots.AxesSubplot at 0x7fe620f5c310>"
      ]
     },
     "execution_count": 42,
     "metadata": {},
     "output_type": "execute_result"
    },
    {
     "data": {
      "image/png": "[encoded data removed]",
      "text/plain": [
       "<Figure size 432x288 with 1 Axes>"
      ]
     },
     "metadata": {
      "needs_background": "light"
     },
     "output_type": "display_data"
    }
   ],
   "source": [
    "# Visualize the Simulation\n",
    "\n",
    "monte_carlo.plot(legend=None, title=\"Simulated Retirement Portfolio (Over the Next 30 Years)\")\n"
   ]
  },
  {
   "cell_type": "code",
   "execution_count": 43,
   "metadata": {},
   "outputs": [
    {
     "data": {
      "text/plain": [
       "0    192.773859\n",
       "1    171.964137\n",
       "2    177.998514\n",
       "3    138.466715\n",
       "4    175.628015\n",
       "Name: 7560, dtype: float64"
      ]
     },
     "execution_count": 43,
     "metadata": {},
     "output_type": "execute_result"
    }
   ],
   "source": [
    "# Select the last row for the cumulative returns (cumulative returns at 30 years)\n",
    "\n",
    "ending_monte_carlo = monte_carlo.iloc[-1, :]\n",
    "\n",
    "ending_monte_carlo.head()\n"
   ]
  },
  {
   "cell_type": "code",
   "execution_count": 44,
   "metadata": {},
   "outputs": [
    {
     "data": {
      "text/plain": [
       "0    192.773859\n",
       "1    171.964137\n",
       "2    177.998514\n",
       "3    138.466715\n",
       "4    175.628015\n",
       "Name: 7560, dtype: float64"
      ]
     },
     "execution_count": 44,
     "metadata": {},
     "output_type": "execute_result"
    },
    {
     "data": {
      "image/png": "[encoded data removed]",
      "text/plain": [
       "<Figure size 432x288 with 1 Axes>"
      ]
     },
     "metadata": {
      "needs_background": "light"
     },
     "output_type": "display_data"
    }
   ],
   "source": [
    "# Select the last row for the cumulative returns (cumulative returns at 30 years)\n",
    "\n",
    "ending_monte_carlo.plot(kind=\"hist\", bins=50)\n",
    "ending_monte_carlo.value_counts(bins=50) / len(ending_monte_carlo)\n",
    "ending_monte_carlo.head()\n"
   ]
  },
  {
   "cell_type": "code",
   "execution_count": 45,
   "metadata": {},
   "outputs": [
    {
     "data": {
      "text/plain": [
       "0.05    102.825606\n",
       "0.95    379.341808\n",
       "Name: 7560, dtype: float64"
      ]
     },
     "execution_count": 45,
     "metadata": {},
     "output_type": "execute_result"
    }
   ],
   "source": [
    "# Display the 90% confidence interval for the ending returns\n",
    "\n",
    "confidence_interval = ending_monte_carlo.quantile(q=[0.05, 0.95])\n",
    "confidence_interval\n"
   ]
  },
  {
   "cell_type": "code",
   "execution_count": 46,
   "metadata": {},
   "outputs": [
    {
     "data": {
      "image/png": "[encoded data removed]",
      "text/plain": [
       "<Figure size 432x288 with 1 Axes>"
      ]
     },
     "metadata": {
      "needs_background": "light"
     },
     "output_type": "display_data"
    }
   ],
   "source": [
    "# Visualize the distribution of the ending returns\n",
    "\n",
    "plt.figure();\n",
    "ending_monte_carlo.plot(kind=\"hist\", density=True, bins=50)\n",
    "plt.axvline(confidence_interval.iloc[0], color=\"r\")\n",
    "plt.axvline(confidence_interval.iloc[1], color=\"r\")\n",
    "plt.savefig('Monte_Carlo_Bar.png')\n"
   ]
  },
  {
   "cell_type": "markdown",
   "metadata": {},
   "source": [
    "---"
   ]
  },
  {
   "cell_type": "markdown",
   "metadata": {},
   "source": [
    "## Retirement Analysis\n",
    "\n",
    "In this section, you will use the monte carlo model to answer the following retirement planning questions:\n",
    "\n",
    "1. What are the expected cumulative returns at `30` years for the `10th`, `50th`, and `90th` percentiles?\n",
    "\n",
    "2. Given an initial investment of `$20,000`, what is the expected return in dollars at the `10th`, `50th`, and `90th` percentiles?\n",
    "\n",
    "3. Given the current projected annual income from the Plaid analysis, will a `4%` withdrawal rate meet or exceed that value at the `10th` percentile? Note: This is basically determining if retirement income is equivalent to current income.\n",
    "\n",
    "4. How would a `50%` increase in the initial investment amount affect the `4%` retirement withdrawal? In other words, what happens if the initial investment had been bigger?"
   ]
  },
  {
   "cell_type": "markdown",
   "metadata": {},
   "source": [
    "### What are the expected cumulative returns at 30 years for the 10th, 50th, and 90th percentiles?"
   ]
  },
  {
   "cell_type": "code",
   "execution_count": 47,
   "metadata": {},
   "outputs": [
    {
     "data": {
      "text/plain": [
       "0.1    119.027485\n",
       "0.5    199.083857\n",
       "0.9    320.561549\n",
       "Name: 7560, dtype: float64"
      ]
     },
     "execution_count": 47,
     "metadata": {},
     "output_type": "execute_result"
    }
   ],
   "source": [
    "# Compute cumulative returns\n",
    "\n",
    "expected_cumulative_roi = ending_monte_carlo.quantile(q=[0.10, 0.50, 0.90])\n",
    "expected_cumulative_roi\n"
   ]
  },
  {
   "cell_type": "markdown",
   "metadata": {},
   "source": [
    "### Given an initial investment of `$20,000`, what is the expected portfolio return in dollars at the 10th, 50th, and 90th percentiles?"
   ]
  },
  {
   "cell_type": "code",
   "execution_count": 49,
   "metadata": {},
   "outputs": [
    {
     "name": "stdout",
     "output_type": "stream",
     "text": [
      "\n",
      "Based on an investment of $20000, you will have total retirement income of $2400549.7 at the low range, $4001677.14 at the mid range, $6431230.97 at the high range.\n",
      "\n"
     ]
    }
   ],
   "source": [
    "# Set initial investment\n",
    "\n",
    "initial_investment = 20000\n",
    "\n",
    "# Compute expected portfolio return\n",
    "\n",
    "investment_pnl_10p = round(initial_investment + (initial_investment * expected_cumulative_roi.iloc[0]),2)\n",
    "investment_pnl_50p = round(initial_investment + (initial_investment * expected_cumulative_roi.iloc[1]),2)\n",
    "investment_pnl_90p = round(initial_investment + (initial_investment * expected_cumulative_roi.iloc[2]),2)\n",
    "\n",
    "print(\"\")\n",
    "print(f\"Based on an investment of ${initial_investment}, you will have total retirement income of ${investment_pnl_10p} at the low range, ${investment_pnl_50p} at the mid range, ${investment_pnl_90p} at the high range.\")\n",
    "print(\"\")\n"
   ]
  },
  {
   "cell_type": "markdown",
   "metadata": {},
   "source": [
    "### Given the current projected annual income from the Plaid analysis, will a 4% withdraw rate from the retirement portfolio meet or exceed that value at the 10th percentile?\n",
    "\n",
    "Note: This is effectively saying that 90% of the expected returns will be greater than the return at the 10th percentile, so this can help measure the uncertainty about having enough funds at retirement"
   ]
  },
  {
   "cell_type": "code",
   "execution_count": 50,
   "metadata": {},
   "outputs": [
    {
     "name": "stdout",
     "output_type": "stream",
     "text": [
      "\n",
      "You should have $96021.99 in annual retirement income which exceeds your current annual income of $7389\n",
      "\n"
     ]
    }
   ],
   "source": [
    "# Set Plaid's projected income\n",
    "\n",
    "projected_income = 7389\n",
    "\n",
    "# Calculate the 4% withdrawal for the ending return as retirement income\n",
    "\n",
    "withdrawal_rate = .04\n",
    "withdrawal = round(withdrawal_rate * investment_pnl_10p, 2)\n",
    "\n",
    "# Determine if the retirement income meets or exceeds the current projected income\n",
    "\n",
    "if withdrawal >= projected_income:\n",
    "    print(\"\")\n",
    "    print(f\"You should have ${withdrawal} in annual retirement income which exceeds your current annual income of ${projected_income}\")\n",
    "    print(\"\")\n",
    "else:\n",
    "    print(\"\")\n",
    "    print(f\"You should have ${withdrawal} in annual retirement income which is less than your current annual income of ${projected_income}\")\n",
    "    print(\"\")\n"
   ]
  },
  {
   "cell_type": "markdown",
   "metadata": {},
   "source": [
    "### How would a 50% increase in the initial investment amount affect the 4% retirement withdrawal?"
   ]
  },
  {
   "cell_type": "code",
   "execution_count": 51,
   "metadata": {},
   "outputs": [
    {
     "name": "stdout",
     "output_type": "stream",
     "text": [
      "\n",
      "In 30 years, with an investment of $30000.0, you should have total retirement income of $3600824.55 at the low range, $6002515.72 at the mid range, $9646846.46 at the high range.\n",
      "\n"
     ]
    }
   ],
   "source": [
    "# Re-calculate the retirement income with a 50% increase in the initial investment amount\n",
    "\n",
    "pct_incr = 0.50\n",
    "\n",
    "# Set initial investment\n",
    "\n",
    "new_initial_investment = initial_investment * (1 + pct_incr)\n",
    "\n",
    "# Compute expected portfolio return\n",
    "\n",
    "investment_pnl_10p2 = round(new_initial_investment + (new_initial_investment * expected_cumulative_roi.iloc[0]),2)\n",
    "investment_pnl_50p2 = round(new_initial_investment + (new_initial_investment * expected_cumulative_roi.iloc[1]),2)\n",
    "investment_pnl_90p2 = round(new_initial_investment + (new_initial_investment * expected_cumulative_roi.iloc[2]),2)\n",
    "\n",
    "print(\"\")\n",
    "print(f\"In 30 years, with an investment of ${new_initial_investment}, you should have total retirement income of ${investment_pnl_10p2} at the low range, ${investment_pnl_50p2} at the mid range, ${investment_pnl_90p2} at the high range.\")\n",
    "print(\"\")\n"
   ]
  },
  {
   "cell_type": "markdown",
   "metadata": {},
   "source": [
    "### Optional Challenge\n",
    "\n",
    "Use the Monte Carlo data and calculate the cumulative returns at the `5%`, `50%`, and `95%` quartiles and plot this data as a line chart to see how the cumulative returns change over the life of the investment.\n",
    "\n",
    "In this section, you need to calculate and plot the cumulative returns for the median and `90%` confidence intervals. This plot shows the expected cumulative returns for any given day between the first day and the last day of investment. "
   ]
  },
  {
   "cell_type": "code",
   "execution_count": 52,
   "metadata": {},
   "outputs": [
    {
     "data": {
      "text/html": [
       "<div>\n",
       "<style scoped>\n",
       "    .dataframe tbody tr th:only-of-type {\n",
       "        vertical-align: middle;\n",
       "    }\n",
       "\n",
       "    .dataframe tbody tr th {\n",
       "        vertical-align: top;\n",
       "    }\n",
       "\n",
       "    .dataframe thead th {\n",
       "        text-align: right;\n",
       "    }\n",
       "</style>\n",
       "<table border=\"1\" class=\"dataframe\">\n",
       "  <thead>\n",
       "    <tr style=\"text-align: right;\">\n",
       "      <th></th>\n",
       "      <th>0.05</th>\n",
       "      <th>0.50</th>\n",
       "      <th>0.95</th>\n",
       "    </tr>\n",
       "  </thead>\n",
       "  <tbody>\n",
       "    <tr>\n",
       "      <th>0</th>\n",
       "      <td>1.000000</td>\n",
       "      <td>1.000000</td>\n",
       "      <td>1.000000</td>\n",
       "    </tr>\n",
       "    <tr>\n",
       "      <th>1</th>\n",
       "      <td>0.992691</td>\n",
       "      <td>1.000785</td>\n",
       "      <td>1.008573</td>\n",
       "    </tr>\n",
       "    <tr>\n",
       "      <th>2</th>\n",
       "      <td>0.990438</td>\n",
       "      <td>1.001287</td>\n",
       "      <td>1.013288</td>\n",
       "    </tr>\n",
       "    <tr>\n",
       "      <th>3</th>\n",
       "      <td>0.989383</td>\n",
       "      <td>1.002328</td>\n",
       "      <td>1.015727</td>\n",
       "    </tr>\n",
       "    <tr>\n",
       "      <th>4</th>\n",
       "      <td>0.988241</td>\n",
       "      <td>1.002972</td>\n",
       "      <td>1.018309</td>\n",
       "    </tr>\n",
       "  </tbody>\n",
       "</table>\n",
       "</div>"
      ],
      "text/plain": [
       "       0.05      0.50      0.95\n",
       "0  1.000000  1.000000  1.000000\n",
       "1  0.992691  1.000785  1.008573\n",
       "2  0.990438  1.001287  1.013288\n",
       "3  0.989383  1.002328  1.015727\n",
       "4  0.988241  1.002972  1.018309"
      ]
     },
     "execution_count": 52,
     "metadata": {},
     "output_type": "execute_result"
    }
   ],
   "source": [
    "# Compute projected returns\n",
    "\n",
    "new_monte_carlo = monte_carlo.quantile([0.05, 0.50, 0.95], axis=\"columns\").pivot_table(columns=[\"0.05\", \"0.50\", \"0.95\"])\n",
    "\n",
    "# Display sample data\n",
    "\n",
    "new_monte_carlo.head()\n",
    "    "
   ]
  },
  {
   "cell_type": "code",
   "execution_count": 57,
   "metadata": {},
   "outputs": [
    {
     "data": {
      "text/plain": [
       "<matplotlib.axes._subplots.AxesSubplot at 0x7fe600f5e790>"
      ]
     },
     "execution_count": 57,
     "metadata": {},
     "output_type": "execute_result"
    },
    {
     "data": {
      "image/png": "[encoded data removed]",
      "text/plain": [
       "<Figure size 432x288 with 1 Axes>"
      ]
     },
     "metadata": {
      "needs_background": "light"
     },
     "output_type": "display_data"
    }
   ],
   "source": [
    "# Plot the cumulative returns over time\n",
    "\n",
    "new_monte_carlo.plot(title=\"Probability of Portfolio Performance over 30 Years\")\n"
   ]
  },
  {
   "cell_type": "markdown",
   "metadata": {},
   "source": [
    "### Optional Challenge — Early Retirement\n",
    "\n",
    "Harold was really impressed with your work on this planner, but commented that 30 years seems like such a long time to wait to retire! Harold starts wondering if the retirement plan could be adjusted to retire earlier than normal. Try adjusting the portfolio to either include more risk (a higher stock than bond ratio) or to have a larger initial investment and rerun the retirement analysis to see what it would take to retire in 5 years instead of 30!"
   ]
  },
  {
   "cell_type": "code",
   "execution_count": 58,
   "metadata": {},
   "outputs": [
    {
     "name": "stdout",
     "output_type": "stream",
     "text": [
      "\n",
      "In 5 years, given an investment of $60000, you should have total retirement income of $187627.15 at the low range, $222827.02 at the mid range, $277244.05 at the high range.\n",
      "\n",
      "\n",
      "You should have $7505.09 in annual retirement income which exceeds your current annual income of $7389\n",
      "\n"
     ]
    },
    {
     "data": {
      "image/png": "[encoded data removed]",
      "text/plain": [
       "<Figure size 432x288 with 1 Axes>"
      ]
     },
     "metadata": {
      "needs_background": "light"
     },
     "output_type": "display_data"
    },
    {
     "data": {
      "image/png": "[encoded data removed]",
      "text/plain": [
       "<Figure size 432x288 with 1 Axes>"
      ]
     },
     "metadata": {
      "needs_background": "light"
     },
     "output_type": "display_data"
    }
   ],
   "source": [
    "# Setup the Monte Carlo Parameters for 500 simulations over 5 years of records\n",
    "\n",
    "number_simulations2 = 500\n",
    "number_records2 = 252 * 5\n",
    "monte_carlo2 = pd.DataFrame()\n",
    "simulated_price_df2 = pd.DataFrame()\n",
    "\n",
    "# Run the Monte Carlo Simulation\n",
    "\n",
    "for simulation2 in range(number_simulations2):\n",
    "\n",
    "    # Initialize the simulated prices list with the last closing price of AGG & SPY\n",
    "    \n",
    "    simulated_agg_prices2 = [agg_last_price]\n",
    "    simulated_spy_prices2 = [spy_last_price]\n",
    "    \n",
    "    # Simulate the returns for 252 days of 5 years\n",
    "    \n",
    "    for i2 in range (number_records2):\n",
    "        \n",
    "        # Calculate the simulated price using the last price within the list\n",
    "        \n",
    "        simulated_agg_price2 = simulated_agg_prices2[-1] * (1 + np.random.normal(avg_daily_roi_agg, std_daily_roi_agg))\n",
    "        simulated_spy_price2 = simulated_spy_prices2[-1] * (1 + np.random.normal(avg_daily_roi_spy, std_daily_roi_spy))    \n",
    "        \n",
    "        # Append the simulated prices to the list\n",
    "        \n",
    "        simulated_agg_prices2.append(simulated_agg_price2)\n",
    "        simulated_spy_prices2.append(simulated_spy_price2)\n",
    "    \n",
    "    # Append the simulated prices of each simulation to the DataFrame\n",
    "    \n",
    "    simulated_price_df2[\"AGG Prices\"] = pd.Series(simulated_agg_prices2)\n",
    "    simulated_price_df2[\"SPY Prices\"] = pd.Series(simulated_spy_prices2)\n",
    "    \n",
    "    # Calculate the Daily ROI of simulated prices\n",
    "    \n",
    "    simulated_daily_roi2 = simulated_price_df2.pct_change()\n",
    "    \n",
    "    # Set portfolio weights to 40% AGG & 60% SPY\n",
    "    \n",
    "    weights2 = [0.25, 0.75]\n",
    "    \n",
    "    # Update Daily ROI based on Weighted Portfolio Mix \n",
    "    \n",
    "    portfolio_daily_roi2 = simulated_daily_roi2.dot(weights2)\n",
    "    \n",
    "    # Calculate Simulated, Normalized Cumulative Returns\n",
    "    \n",
    "    monte_carlo2[simulation2] = (1 + portfolio_daily_roi2.fillna(0)).cumprod()\n",
    "    \n",
    "\n",
    "# Visualize the Simulation\n",
    "\n",
    "monte_carlo2.plot(legend=None, title=\"Simulated Retirement Portfolio (Over the Next 5 Years)\")\n",
    "  \n",
    "    \n",
    "# Select the last row for the cumulative returns (cumulative returns at 5 years)\n",
    "\n",
    "ending_monte_carlo2 = monte_carlo2.iloc[-1, :]    \n",
    "\n",
    "# Compute cumulative returns\n",
    "\n",
    "expected_cumulative_roi2 = ending_monte_carlo2.quantile(q=[0.10, 0.50, 0.90])\n",
    "\n",
    "# Set initial investment\n",
    "\n",
    "initial_investment2 = 60000\n",
    "\n",
    "# Compute expected portfolio return\n",
    "\n",
    "investment_pnl_10p2 = round(initial_investment2 + (initial_investment2 * expected_cumulative_roi2.iloc[0]),2)\n",
    "investment_pnl_50p2 = round(initial_investment2 + (initial_investment2 * expected_cumulative_roi2.iloc[1]),2)\n",
    "investment_pnl_90p2 = round(initial_investment2 + (initial_investment2 * expected_cumulative_roi2.iloc[2]),2)\n",
    "\n",
    "print(\"\")\n",
    "print(f\"In 5 years, given an investment of ${initial_investment2}, you should have total retirement income of ${investment_pnl_10p2} at the low range, ${investment_pnl_50p2} at the mid range, ${investment_pnl_90p2} at the high range.\")\n",
    "print(\"\")\n",
    "\n",
    "# Compute projected returns\n",
    "\n",
    "new_monte_carlo2 = monte_carlo2.quantile([0.05, 0.50, 0.95], axis=\"columns\").pivot_table(columns=[\"0.05\", \"0.50\", \"0.95\"])\n",
    "\n",
    "# Plot the cumulative returns over time\n",
    "\n",
    "new_monte_carlo2.plot(title=\"Probability of Portfolio Performance over 5 Years\")\n",
    "\n",
    "# Set Plaid's projected income\n",
    "\n",
    "projected_income = 7389\n",
    "\n",
    "# Calculate the 4% withdrawal for the ending return as retirement income\n",
    "\n",
    "withdrawal_rate = .04\n",
    "withdrawal2 = round(withdrawal_rate * investment_pnl_10p2, 2)\n",
    "\n",
    "# Determine if the retirement income meets or exceeds the current projected income\n",
    "\n",
    "if withdrawal2 >= projected_income:\n",
    "    print(\"\")\n",
    "    print(f\"You should have ${withdrawal2} in annual retirement income which exceeds your current annual income of ${projected_income}\")\n",
    "    print(\"\")\n",
    "else:\n",
    "    print(\"\")\n",
    "    print(f\"You should have ${withdrawal2} in annual retirement income which is less than your current annual income of ${projected_income}\")\n",
    "    print(\"\")\n"
   ]
  },
  {
   "cell_type": "code",
   "execution_count": null,
   "metadata": {},
   "outputs": [],
   "source": []
  }
 ],
 "metadata": {
  "kernelspec": {
   "display_name": "Python 3",
   "language": "python",
   "name": "python3"
  },
  "language_info": {
   "codemirror_mode": {
    "name": "ipython",
    "version": 3
   },
   "file_extension": ".py",
   "mimetype": "text/x-python",
   "name": "python",
   "nbconvert_exporter": "python",
   "pygments_lexer": "ipython3",
   "version": "3.7.7"
  }
 },
 "nbformat": 4,
 "nbformat_minor": 4
}
